{
 "cells": [
  {
   "cell_type": "markdown",
   "id": "f127a6be",
   "metadata": {},
   "source": [
    "## List"
   ]
  },
  {
   "cell_type": "code",
   "execution_count": 1,
   "id": "f81036de",
   "metadata": {},
   "outputs": [],
   "source": [
    "countires = ['Pakistan', 'Japan', 'Afghanistan']\n"
   ]
  },
  {
   "cell_type": "code",
   "execution_count": 3,
   "id": "da97a814",
   "metadata": {},
   "outputs": [
    {
     "data": {
      "text/plain": [
       "['Pakistan', 'Japan', 'Afghanistan']"
      ]
     },
     "execution_count": 3,
     "metadata": {},
     "output_type": "execute_result"
    }
   ],
   "source": [
    "countires"
   ]
  },
  {
   "cell_type": "code",
   "execution_count": 4,
   "id": "1c310d9f",
   "metadata": {},
   "outputs": [],
   "source": [
    "countires = countires + ['India']"
   ]
  },
  {
   "cell_type": "code",
   "execution_count": 5,
   "id": "9ce405ed",
   "metadata": {},
   "outputs": [
    {
     "data": {
      "text/plain": [
       "['Pakistan', 'Japan', 'Afghanistan', 'India']"
      ]
     },
     "execution_count": 5,
     "metadata": {},
     "output_type": "execute_result"
    }
   ],
   "source": [
    "countires"
   ]
  },
  {
   "cell_type": "code",
   "execution_count": 11,
   "id": "6622fa41",
   "metadata": {},
   "outputs": [],
   "source": [
    "larger_countires_list = countires + ['Saudia Arabia']"
   ]
  },
  {
   "cell_type": "code",
   "execution_count": 14,
   "id": "985fea3f",
   "metadata": {},
   "outputs": [
    {
     "data": {
      "text/plain": [
       "['Pakistan', 'Japan', 'Afghanistan', 'India', 'Saudia Arabia']"
      ]
     },
     "execution_count": 14,
     "metadata": {},
     "output_type": "execute_result"
    }
   ],
   "source": [
    "larger_countires_list"
   ]
  },
  {
   "cell_type": "code",
   "execution_count": 16,
   "id": "e2c48a43",
   "metadata": {},
   "outputs": [
    {
     "data": {
      "text/plain": [
       "list"
      ]
     },
     "execution_count": 16,
     "metadata": {},
     "output_type": "execute_result"
    }
   ],
   "source": [
    "type(larger_countires_list)"
   ]
  },
  {
   "cell_type": "markdown",
   "id": "6ff43bde",
   "metadata": {},
   "source": [
    "## appending value in list"
   ]
  },
  {
   "cell_type": "code",
   "execution_count": 17,
   "id": "c68a259e",
   "metadata": {},
   "outputs": [],
   "source": [
    "countires.append('Dubai')"
   ]
  },
  {
   "cell_type": "code",
   "execution_count": 18,
   "id": "ca3397db",
   "metadata": {},
   "outputs": [
    {
     "data": {
      "text/plain": [
       "['Pakistan', 'Japan', 'Afghanistan', 'India', 'Dubai']"
      ]
     },
     "execution_count": 18,
     "metadata": {},
     "output_type": "execute_result"
    }
   ],
   "source": [
    "countires"
   ]
  },
  {
   "cell_type": "code",
   "execution_count": 19,
   "id": "a422f380",
   "metadata": {},
   "outputs": [],
   "source": [
    "countires.insert(0, 'Malaysia')"
   ]
  },
  {
   "cell_type": "code",
   "execution_count": 21,
   "id": "35a7b4d2",
   "metadata": {},
   "outputs": [
    {
     "data": {
      "text/plain": [
       "['Malaysia', 'Pakistan', 'Japan', 'Afghanistan', 'India', 'Dubai']"
      ]
     },
     "execution_count": 21,
     "metadata": {},
     "output_type": "execute_result"
    }
   ],
   "source": [
    "countires"
   ]
  },
  {
   "cell_type": "code",
   "execution_count": 22,
   "id": "8f2f5ac8",
   "metadata": {},
   "outputs": [],
   "source": [
    "countires.insert(3, 'America')"
   ]
  },
  {
   "cell_type": "code",
   "execution_count": 23,
   "id": "58e12ceb",
   "metadata": {},
   "outputs": [
    {
     "data": {
      "text/plain": [
       "['Malaysia', 'Pakistan', 'Japan', 'America', 'Afghanistan', 'India', 'Dubai']"
      ]
     },
     "execution_count": 23,
     "metadata": {},
     "output_type": "execute_result"
    }
   ],
   "source": [
    "countires"
   ]
  },
  {
   "cell_type": "markdown",
   "id": "c7c12109",
   "metadata": {},
   "source": [
    "## slicing"
   ]
  },
  {
   "cell_type": "code",
   "execution_count": 24,
   "id": "b26e64c1",
   "metadata": {},
   "outputs": [
    {
     "data": {
      "text/plain": [
       "['Malaysia', 'Pakistan', 'Japan', 'America', 'Afghanistan', 'India', 'Dubai']"
      ]
     },
     "execution_count": 24,
     "metadata": {},
     "output_type": "execute_result"
    }
   ],
   "source": [
    "countires"
   ]
  },
  {
   "cell_type": "code",
   "execution_count": 25,
   "id": "c949aeb2",
   "metadata": {},
   "outputs": [],
   "source": [
    "slicedlist = countires [:1]"
   ]
  },
  {
   "cell_type": "code",
   "execution_count": 26,
   "id": "51c8839a",
   "metadata": {},
   "outputs": [
    {
     "data": {
      "text/plain": [
       "['Malaysia']"
      ]
     },
     "execution_count": 26,
     "metadata": {},
     "output_type": "execute_result"
    }
   ],
   "source": [
    "slicedlist"
   ]
  },
  {
   "cell_type": "code",
   "execution_count": 29,
   "id": "b5c3824d",
   "metadata": {},
   "outputs": [],
   "source": [
    "slicedlist = countires [1:5]"
   ]
  },
  {
   "cell_type": "code",
   "execution_count": 30,
   "id": "d4c9ce89",
   "metadata": {},
   "outputs": [
    {
     "data": {
      "text/plain": [
       "['Pakistan', 'Japan', 'America', 'Afghanistan']"
      ]
     },
     "execution_count": 30,
     "metadata": {},
     "output_type": "execute_result"
    }
   ],
   "source": [
    "slicedlist"
   ]
  },
  {
   "cell_type": "code",
   "execution_count": 32,
   "id": "8235a68d",
   "metadata": {},
   "outputs": [],
   "source": [
    "slicedlist = countires [:]"
   ]
  },
  {
   "cell_type": "code",
   "execution_count": 33,
   "id": "ce137a3b",
   "metadata": {},
   "outputs": [
    {
     "data": {
      "text/plain": [
       "['Malaysia', 'Pakistan', 'Japan', 'America', 'Afghanistan', 'India', 'Dubai']"
      ]
     },
     "execution_count": 33,
     "metadata": {},
     "output_type": "execute_result"
    }
   ],
   "source": [
    "slicedlist"
   ]
  },
  {
   "cell_type": "markdown",
   "id": "a6f0f02b",
   "metadata": {},
   "source": [
    "## Deleting value in list"
   ]
  },
  {
   "cell_type": "code",
   "execution_count": 34,
   "id": "a254e76e",
   "metadata": {},
   "outputs": [
    {
     "data": {
      "text/plain": [
       "['Malaysia', 'Pakistan', 'Japan', 'America', 'Afghanistan', 'India', 'Dubai']"
      ]
     },
     "execution_count": 34,
     "metadata": {},
     "output_type": "execute_result"
    }
   ],
   "source": [
    "countires"
   ]
  },
  {
   "cell_type": "code",
   "execution_count": 36,
   "id": "dc327168",
   "metadata": {},
   "outputs": [],
   "source": [
    "del countires[4]"
   ]
  },
  {
   "cell_type": "code",
   "execution_count": 37,
   "id": "21e2274b",
   "metadata": {},
   "outputs": [
    {
     "data": {
      "text/plain": [
       "['Malaysia', 'Pakistan', 'Japan', 'America', 'India', 'Dubai']"
      ]
     },
     "execution_count": 37,
     "metadata": {},
     "output_type": "execute_result"
    }
   ],
   "source": [
    "countires"
   ]
  },
  {
   "cell_type": "code",
   "execution_count": 41,
   "id": "8f83b773",
   "metadata": {},
   "outputs": [],
   "source": [
    "countires.remove('Pakistan')"
   ]
  },
  {
   "cell_type": "code",
   "execution_count": 42,
   "id": "fc62db19",
   "metadata": {},
   "outputs": [
    {
     "data": {
      "text/plain": [
       "['Malaysia', 'Japan', 'America', 'India', 'Dubai']"
      ]
     },
     "execution_count": 42,
     "metadata": {},
     "output_type": "execute_result"
    }
   ],
   "source": [
    "countires"
   ]
  },
  {
   "cell_type": "markdown",
   "id": "0043ae3d",
   "metadata": {},
   "source": [
    "## IF ELSE CONDITION\n",
    "\n"
   ]
  },
  {
   "cell_type": "code",
   "execution_count": 8,
   "id": "6a8a417e",
   "metadata": {},
   "outputs": [],
   "source": [
    "country = \"Pakistan\"\n",
    "height = 5"
   ]
  },
  {
   "cell_type": "code",
   "execution_count": 13,
   "id": "204de815",
   "metadata": {},
   "outputs": [
    {
     "name": "stdout",
     "output_type": "stream",
     "text": [
      "Huzaifa is happy\n"
     ]
    }
   ],
   "source": [
    "if country !=\"Pakistan\":\n",
    "    print('Huzaifa is not happy')\n",
    "elif height <6:\n",
    "        print('Huzaifa is happy')\n",
    "else:\n",
    "    print('Huzaifa is fine')"
   ]
  },
  {
   "cell_type": "code",
   "execution_count": 17,
   "id": "72811ba8",
   "metadata": {},
   "outputs": [
    {
     "name": "stdout",
     "output_type": "stream",
     "text": [
      "Enter a countryTurkey\n",
      "Enter a height 8\n",
      "Huzaifa is happy for height\n"
     ]
    }
   ],
   "source": [
    "country = input('Enter a country')\n",
    "height = int(input('Enter a height '))\n",
    "\n",
    "if country !=\"Turkey\":\n",
    "    print('Huzaifa is no happpy')\n",
    "elif height >5:\n",
    "    print('Huzaifa is happy for height')\n",
    "    \n",
    "else:\n",
    "    print('Huzaifa is sad')"
   ]
  },
  {
   "cell_type": "code",
   "execution_count": 15,
   "id": "26404e00",
   "metadata": {},
   "outputs": [],
   "source": [
    "num = 2"
   ]
  },
  {
   "cell_type": "code",
   "execution_count": 16,
   "id": "27cb26b1",
   "metadata": {},
   "outputs": [
    {
     "data": {
      "text/plain": [
       "True"
      ]
     },
     "execution_count": 16,
     "metadata": {},
     "output_type": "execute_result"
    }
   ],
   "source": [
    "num%2==0"
   ]
  },
  {
   "cell_type": "code",
   "execution_count": 17,
   "id": "ad3c4c68",
   "metadata": {},
   "outputs": [
    {
     "name": "stdout",
     "output_type": "stream",
     "text": [
      "num is a odd number\n"
     ]
    }
   ],
   "source": [
    "if num%3==0:\n",
    "    print('num is a even number')\n",
    "else:\n",
    "        print('num is a odd number')"
   ]
  },
  {
   "cell_type": "code",
   "execution_count": 1,
   "id": "2592d9a3",
   "metadata": {},
   "outputs": [
    {
     "data": {
      "text/plain": [
       "True"
      ]
     },
     "execution_count": 1,
     "metadata": {},
     "output_type": "execute_result"
    }
   ],
   "source": [
    "num = 2\n",
    "num%2==0"
   ]
  },
  {
   "cell_type": "code",
   "execution_count": 4,
   "id": "d5f5f940",
   "metadata": {},
   "outputs": [
    {
     "name": "stdout",
     "output_type": "stream",
     "text": [
      "num is a even number\n"
     ]
    }
   ],
   "source": [
    "if num%2==0:\n",
    " print('num is a even number')\n",
    "else:\n",
    "    print('num is a odd num')"
   ]
  },
  {
   "cell_type": "code",
   "execution_count": 30,
   "id": "f44fbfb0",
   "metadata": {},
   "outputs": [
    {
     "name": "stdout",
     "output_type": "stream",
     "text": [
      "Enter your salary 7777777\n",
      "Enter your service_of_year8\n",
      "congratulation! you are eligible for 5% bonus.\n",
      "Net Bonus_amount: $388888.85000000003\n"
     ]
    }
   ],
   "source": [
    "salary = int(input('Enter your salary '))\n",
    "service_of_year = int(input('Enter your service_of_year'))\n",
    "\n",
    "\n",
    "if service_of_year > 6:\n",
    "    Bonus_percentage = 5\n",
    "    Bonus_amount = (Bonus_percentage /100)* salary\n",
    "    print(f\"congratulation! you are eligible for {Bonus_percentage}% bonus.\")\n",
    "    print(f\"Net Bonus_amount: ${Bonus_amount:}\")\n",
    "else:\n",
    "         print('sorry you are not eligible for bonus')\n"
   ]
  },
  {
   "cell_type": "code",
   "execution_count": null,
   "id": "f1d3edaf",
   "metadata": {},
   "outputs": [],
   "source": [
    "salary = int(input('Enter your salary '))\n",
    "service_of_year = int(input('Enter your service_of_year'))\n",
    "\n",
    "if service_of_year > 9:\n",
    "    Bonus_percentage = 5\n",
    "    Bonus_amount = (Bonus_percentage/100)* salary\n",
    "    print(f\"congratulation! you are eligible for {Bonus_percentage}% bonus.\")\n",
    "    print(f\"Net Bonus_amount: {Bonus_amount:}\")\n",
    "else:\n",
    "    print(\"you are not eligible\")"
   ]
  },
  {
   "cell_type": "code",
   "execution_count": 2,
   "id": "3e55ab2f",
   "metadata": {},
   "outputs": [
    {
     "name": "stdout",
     "output_type": "stream",
     "text": [
      "Enter your salary 8888888\n",
      "Enter your service_of_year10\n",
      "congratulation! you are eligible for 5% bonus.\n",
      "Net Bonus_amount: 444444.4\n"
     ]
    }
   ],
   "source": [
    "salary = int(input('Enter your salary '))\n",
    "service_of_year = int(input('Enter your service_of_year'))\n",
    "\n",
    "if service_of_year > 9:\n",
    "    Bonus_percentage = 5\n",
    "    Bonus_amount = (Bonus_percentage/100)* salary\n",
    "    print(f\"congratulation! you are eligible for {Bonus_percentage}% bonus.\")\n",
    "    print(f\"Net Bonus_amount: {Bonus_amount:}\")\n",
    "else:\n",
    "    print(\"you are not eligible\")"
   ]
  },
  {
   "cell_type": "code",
   "execution_count": 4,
   "id": "7a977a81",
   "metadata": {},
   "outputs": [
    {
     "name": "stdout",
     "output_type": "stream",
     "text": [
      "Enter your age19\n",
      "congratulation you are eligible for voting\n"
     ]
    }
   ],
   "source": [
    "age = int(input(\"Enter your age\" ))\n",
    "if age >18 :\n",
    "    print('congratulation you are eligible for voting')\n",
    "else :\n",
    "    print('you are not eligible')"
   ]
  },
  {
   "cell_type": "code",
   "execution_count": 11,
   "id": "93163bfb",
   "metadata": {},
   "outputs": [
    {
     "name": "stdout",
     "output_type": "stream",
     "text": [
      "1600\n",
      "loop cycle\n",
      "1700\n",
      "loop cycle\n",
      "1800\n",
      "loop cycle\n",
      "1900\n",
      "loop cycle\n"
     ]
    }
   ],
   "source": [
    "for year in [1600, 1700, 1800, 1900]:\n",
    " print (year)\n",
    " print('loop cycle')"
   ]
  },
  {
   "cell_type": "code",
   "execution_count": 12,
   "id": "dc707517",
   "metadata": {},
   "outputs": [
    {
     "name": "stdout",
     "output_type": "stream",
     "text": [
      "0\n",
      "1\n",
      "2\n",
      "3\n",
      "4\n",
      "5\n",
      "6\n",
      "7\n",
      "8\n",
      "9\n"
     ]
    }
   ],
   "source": [
    "for i in range (0,10):\n",
    "    print(i)"
   ]
  },
  {
   "cell_type": "code",
   "execution_count": 13,
   "id": "eef41a1e",
   "metadata": {},
   "outputs": [
    {
     "name": "stdout",
     "output_type": "stream",
     "text": [
      "10\n",
      "12\n",
      "14\n",
      "16\n",
      "18\n"
     ]
    }
   ],
   "source": [
    "for i in range (10,20,2):\n",
    "    print(i)"
   ]
  },
  {
   "cell_type": "code",
   "execution_count": 4,
   "id": "1b9425b0",
   "metadata": {},
   "outputs": [],
   "source": [
    "weight = 150"
   ]
  },
  {
   "cell_type": "code",
   "execution_count": 5,
   "id": "cd9c287f",
   "metadata": {},
   "outputs": [
    {
     "name": "stdout",
     "output_type": "stream",
     "text": [
      "150\n"
     ]
    }
   ],
   "source": [
    "print(weight)"
   ]
  },
  {
   "cell_type": "code",
   "execution_count": 6,
   "id": "c34bc6c9",
   "metadata": {},
   "outputs": [
    {
     "data": {
      "text/plain": [
       "175"
      ]
     },
     "execution_count": 6,
     "metadata": {},
     "output_type": "execute_result"
    }
   ],
   "source": [
    "weight + 25"
   ]
  },
  {
   "cell_type": "code",
   "execution_count": 7,
   "id": "a54a5f9b",
   "metadata": {},
   "outputs": [
    {
     "name": "stdout",
     "output_type": "stream",
     "text": [
      "150\n"
     ]
    }
   ],
   "source": [
    "print (weight)"
   ]
  },
  {
   "cell_type": "code",
   "execution_count": 8,
   "id": "afd5bf4e",
   "metadata": {},
   "outputs": [],
   "source": [
    "weight +=25"
   ]
  },
  {
   "cell_type": "code",
   "execution_count": 9,
   "id": "965ceb98",
   "metadata": {},
   "outputs": [
    {
     "name": "stdout",
     "output_type": "stream",
     "text": [
      "175\n"
     ]
    }
   ],
   "source": [
    "print(weight)"
   ]
  },
  {
   "cell_type": "code",
   "execution_count": 11,
   "id": "4cfbf56e",
   "metadata": {},
   "outputs": [],
   "source": [
    "original_num = 25 \n",
    "new_num = original_num + 7"
   ]
  },
  {
   "cell_type": "code",
   "execution_count": 13,
   "id": "881aebc5",
   "metadata": {},
   "outputs": [
    {
     "name": "stdout",
     "output_type": "stream",
     "text": [
      "32\n"
     ]
    }
   ],
   "source": [
    "print(new_num)"
   ]
  },
  {
   "cell_type": "code",
   "execution_count": 14,
   "id": "8c3881e0",
   "metadata": {},
   "outputs": [],
   "source": [
    "dozen = 3*12"
   ]
  },
  {
   "cell_type": "code",
   "execution_count": 15,
   "id": "12c7bbd6",
   "metadata": {},
   "outputs": [
    {
     "name": "stdout",
     "output_type": "stream",
     "text": [
      "36\n"
     ]
    }
   ],
   "source": [
    "print(dozen)"
   ]
  },
  {
   "cell_type": "code",
   "execution_count": 16,
   "id": "5f680e5c",
   "metadata": {},
   "outputs": [],
   "source": [
    "age =  18"
   ]
  },
  {
   "cell_type": "code",
   "execution_count": 19,
   "id": "af6f7db8",
   "metadata": {},
   "outputs": [],
   "source": [
    "age = age + 2"
   ]
  },
  {
   "cell_type": "code",
   "execution_count": 20,
   "id": "b5a1d1e4",
   "metadata": {},
   "outputs": [
    {
     "name": "stdout",
     "output_type": "stream",
     "text": [
      "20\n"
     ]
    }
   ],
   "source": [
    "print (age)"
   ]
  },
  {
   "cell_type": "code",
   "execution_count": 23,
   "id": "8c7bb033",
   "metadata": {},
   "outputs": [],
   "source": [
    "age +=10"
   ]
  },
  {
   "cell_type": "code",
   "execution_count": 24,
   "id": "d2efce97",
   "metadata": {},
   "outputs": [
    {
     "name": "stdout",
     "output_type": "stream",
     "text": [
      "20\n"
     ]
    }
   ],
   "source": [
    "print(age)"
   ]
  },
  {
   "cell_type": "code",
   "execution_count": 25,
   "id": "223d78d0",
   "metadata": {},
   "outputs": [
    {
     "name": "stdout",
     "output_type": "stream",
     "text": [
      "20\n"
     ]
    }
   ],
   "source": [
    "print(age)"
   ]
  },
  {
   "cell_type": "code",
   "execution_count": 26,
   "id": "8dde8f50",
   "metadata": {},
   "outputs": [],
   "source": [
    "age +=10"
   ]
  },
  {
   "cell_type": "code",
   "execution_count": 27,
   "id": "ecd884b8",
   "metadata": {},
   "outputs": [
    {
     "name": "stdout",
     "output_type": "stream",
     "text": [
      "30\n"
     ]
    }
   ],
   "source": [
    "print(age)"
   ]
  },
  {
   "cell_type": "code",
   "execution_count": 28,
   "id": "1b38c5ae",
   "metadata": {},
   "outputs": [],
   "source": [
    "age -=12"
   ]
  },
  {
   "cell_type": "code",
   "execution_count": 29,
   "id": "f35c997e",
   "metadata": {},
   "outputs": [
    {
     "name": "stdout",
     "output_type": "stream",
     "text": [
      "18\n"
     ]
    }
   ],
   "source": [
    "print(age)"
   ]
  },
  {
   "cell_type": "code",
   "execution_count": 30,
   "id": "d8cb06eb",
   "metadata": {},
   "outputs": [],
   "source": [
    "total_cost = 1 + (3 * 4)"
   ]
  },
  {
   "cell_type": "code",
   "execution_count": 31,
   "id": "08bc928c",
   "metadata": {},
   "outputs": [
    {
     "name": "stdout",
     "output_type": "stream",
     "text": [
      "13\n"
     ]
    }
   ],
   "source": [
    "print(total_cost)"
   ]
  },
  {
   "cell_type": "code",
   "execution_count": 54,
   "id": "13f93388",
   "metadata": {},
   "outputs": [],
   "source": [
    "gretting = \"hello\"\n",
    "address = \"world\"\n",
    "whole_gretting = gretting + address"
   ]
  },
  {
   "cell_type": "code",
   "execution_count": 55,
   "id": "c056e33f",
   "metadata": {},
   "outputs": [
    {
     "name": "stdout",
     "output_type": "stream",
     "text": [
      "helloworld\n"
     ]
    }
   ],
   "source": [
    "print(whole_gretting)"
   ]
  },
  {
   "cell_type": "code",
   "execution_count": 62,
   "id": "08f9b413",
   "metadata": {},
   "outputs": [
    {
     "ename": "SyntaxError",
     "evalue": "invalid syntax. Maybe you meant '==' or ':=' instead of '='? (1802843618.py, line 1)",
     "output_type": "error",
     "traceback": [
      "\u001b[1;36m  Cell \u001b[1;32mIn[62], line 1\u001b[1;36m\u001b[0m\n\u001b[1;33m    if speciese = \"animal\":\u001b[0m\n\u001b[1;37m       ^\u001b[0m\n\u001b[1;31mSyntaxError\u001b[0m\u001b[1;31m:\u001b[0m invalid syntax. Maybe you meant '==' or ':=' instead of '='?\n"
     ]
    }
   ],
   "source": [
    "if speciese = \"animal\":\n",
    "    print(\"yep its animal\") "
   ]
  },
  {
   "cell_type": "code",
   "execution_count": 73,
   "id": "cbb86e5c",
   "metadata": {},
   "outputs": [],
   "source": [
    "species = \"cat\""
   ]
  },
  {
   "cell_type": "code",
   "execution_count": 74,
   "id": "480aad86",
   "metadata": {},
   "outputs": [
    {
     "name": "stdout",
     "output_type": "stream",
     "text": [
      "yep its cat\n"
     ]
    }
   ],
   "source": [
    "if species =='cat':\n",
    "    print('yep its cat')"
   ]
  },
  {
   "cell_type": "code",
   "execution_count": 81,
   "id": "3ba37de4",
   "metadata": {},
   "outputs": [
    {
     "ename": "NameError",
     "evalue": "name 'number_of_husband' is not defined",
     "output_type": "error",
     "traceback": [
      "\u001b[1;31m---------------------------------------------------------------------------\u001b[0m",
      "\u001b[1;31mNameError\u001b[0m                                 Traceback (most recent call last)",
      "Cell \u001b[1;32mIn[81], line 1\u001b[0m\n\u001b[1;32m----> 1\u001b[0m number_of_husband \u001b[38;5;241m==\u001b[39m \u001b[38;5;124m\"\u001b[39m\u001b[38;5;124m1\u001b[39m\u001b[38;5;124m\"\u001b[39m\n",
      "\u001b[1;31mNameError\u001b[0m: name 'number_of_husband' is not defined"
     ]
    }
   ],
   "source": [
    "number_of_husband == \"1\""
   ]
  },
  {
   "cell_type": "code",
   "execution_count": 82,
   "id": "5c339e5d",
   "metadata": {},
   "outputs": [
    {
     "ename": "NameError",
     "evalue": "name 'number_of_husband' is not defined",
     "output_type": "error",
     "traceback": [
      "\u001b[1;31m---------------------------------------------------------------------------\u001b[0m",
      "\u001b[1;31mNameError\u001b[0m                                 Traceback (most recent call last)",
      "Cell \u001b[1;32mIn[82], line 1\u001b[0m\n\u001b[1;32m----> 1\u001b[0m \u001b[38;5;28;01mif\u001b[39;00m number_of_husband \u001b[38;5;241m==\u001b[39m \u001b[38;5;241m1\u001b[39m:\n\u001b[0;32m      2\u001b[0m     \u001b[38;5;28mprint\u001b[39m(\u001b[38;5;124m\"\u001b[39m\u001b[38;5;124mso good.\u001b[39m\u001b[38;5;124m\"\u001b[39m)\n\u001b[0;32m      3\u001b[0m     \u001b[38;5;28mprint\u001b[39m(\u001b[38;5;124m'\u001b[39m\u001b[38;5;124mcongratulation.\u001b[39m\u001b[38;5;124m'\u001b[39m)\n",
      "\u001b[1;31mNameError\u001b[0m: name 'number_of_husband' is not defined"
     ]
    }
   ],
   "source": [
    "if number_of_husband == 1:\n",
    "    print(\"so good.\")\n",
    "    print('congratulation.')\n",
    "    print(\"done\")"
   ]
  },
  {
   "cell_type": "code",
   "execution_count": 86,
   "id": "23e41012",
   "metadata": {},
   "outputs": [],
   "source": [
    "number_of_husband = 3"
   ]
  },
  {
   "cell_type": "code",
   "execution_count": 88,
   "id": "a1067181",
   "metadata": {},
   "outputs": [
    {
     "name": "stdout",
     "output_type": "stream",
     "text": [
      "so far good\n",
      "congratulation\n",
      "done\n"
     ]
    }
   ],
   "source": [
    "if number_of_husband == 3:\n",
    "    print(\"so far good\")\n",
    "    print(\"congratulation\")\n",
    "    print(\"done\")"
   ]
  },
  {
   "cell_type": "code",
   "execution_count": 90,
   "id": "f40161a2",
   "metadata": {},
   "outputs": [
    {
     "name": "stdout",
     "output_type": "stream",
     "text": [
      "so handsome\n"
     ]
    }
   ],
   "source": [
    "number_of_husband = 5\n",
    "\n",
    "if number_of_husband ==2:\n",
    "    print(\"so far so good\")\n",
    "    \n",
    "else:\n",
    "    print(\"so handsome\")"
   ]
  },
  {
   "cell_type": "code",
   "execution_count": 92,
   "id": "a0da7544",
   "metadata": {},
   "outputs": [
    {
     "name": "stdout",
     "output_type": "stream",
     "text": [
      "you are selected\n"
     ]
    }
   ],
   "source": [
    "age = 18\n",
    "\n",
    "if age >16:\n",
    "    print(\"you are selected\")\n",
    "else:\n",
    "    print('not selected')"
   ]
  },
  {
   "cell_type": "code",
   "execution_count": 94,
   "id": "3338f7e7",
   "metadata": {},
   "outputs": [
    {
     "name": "stdout",
     "output_type": "stream",
     "text": [
      "Yep, it's cat.\n",
      "Nope, not cat.\n"
     ]
    }
   ],
   "source": [
    "if species == \"cat\":\n",
    "    print(\"Yep, it's cat.\")\n",
    "if species != \"dog\":\n",
    "    print(\"Nope, not cat.\")\n"
   ]
  },
  {
   "cell_type": "code",
   "execution_count": 97,
   "id": "b87c345a",
   "metadata": {},
   "outputs": [
    {
     "name": "stdout",
     "output_type": "stream",
     "text": [
      "selected\n"
     ]
    }
   ],
   "source": [
    "if age > 17:\n",
    "    print('selected')\n",
    "if age <5:\n",
    "    print('selested')"
   ]
  },
  {
   "cell_type": "code",
   "execution_count": null,
   "id": "7a6f8c2d",
   "metadata": {},
   "outputs": [],
   "source": []
  }
 ],
 "metadata": {
  "kernelspec": {
   "display_name": "Python 3 (ipykernel)",
   "language": "python",
   "name": "python3"
  },
  "language_info": {
   "codemirror_mode": {
    "name": "ipython",
    "version": 3
   },
   "file_extension": ".py",
   "mimetype": "text/x-python",
   "name": "python",
   "nbconvert_exporter": "python",
   "pygments_lexer": "ipython3",
   "version": "3.11.5"
  }
 },
 "nbformat": 4,
 "nbformat_minor": 5
}
