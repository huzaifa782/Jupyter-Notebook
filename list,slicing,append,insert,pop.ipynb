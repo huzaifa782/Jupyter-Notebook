{
 "cells": [
  {
   "cell_type": "markdown",
   "id": "6d3b12fe",
   "metadata": {},
   "source": [
    "## 1 List"
   ]
  },
  {
   "cell_type": "code",
   "execution_count": 18,
   "id": "fcc6ae55",
   "metadata": {},
   "outputs": [],
   "source": [
    "cities = ['karachi', 'punjab', 'balochistan', 'sukkur']"
   ]
  },
  {
   "cell_type": "code",
   "execution_count": 19,
   "id": "541b3b94",
   "metadata": {},
   "outputs": [
    {
     "data": {
      "text/plain": [
       "['karachi', 'punjab', 'balochistan', 'sukkur']"
      ]
     },
     "execution_count": 19,
     "metadata": {},
     "output_type": "execute_result"
    }
   ],
   "source": [
    "cities"
   ]
  },
  {
   "cell_type": "code",
   "execution_count": 20,
   "id": "773a58c0",
   "metadata": {},
   "outputs": [],
   "source": [
    "cities = cities + ['kpk']"
   ]
  },
  {
   "cell_type": "code",
   "execution_count": 21,
   "id": "2e35e1db",
   "metadata": {},
   "outputs": [
    {
     "data": {
      "text/plain": [
       "['karachi', 'punjab', 'balochistan', 'sukkur', 'kpk']"
      ]
     },
     "execution_count": 21,
     "metadata": {},
     "output_type": "execute_result"
    }
   ],
   "source": [
    "cities"
   ]
  },
  {
   "cell_type": "code",
   "execution_count": 22,
   "id": "75df379b",
   "metadata": {},
   "outputs": [],
   "source": [
    "cities.append('mir pur')"
   ]
  },
  {
   "cell_type": "code",
   "execution_count": 23,
   "id": "bcc6904d",
   "metadata": {},
   "outputs": [
    {
     "data": {
      "text/plain": [
       "['karachi', 'punjab', 'balochistan', 'sukkur', 'kpk', 'mir pur']"
      ]
     },
     "execution_count": 23,
     "metadata": {},
     "output_type": "execute_result"
    }
   ],
   "source": [
    "cities"
   ]
  },
  {
   "cell_type": "code",
   "execution_count": 24,
   "id": "ec10bc4c",
   "metadata": {},
   "outputs": [],
   "source": [
    "cities.insert(2, 'swat')"
   ]
  },
  {
   "cell_type": "code",
   "execution_count": 25,
   "id": "dbfa5ad7",
   "metadata": {},
   "outputs": [
    {
     "data": {
      "text/plain": [
       "['karachi', 'punjab', 'swat', 'balochistan', 'sukkur', 'kpk', 'mir pur']"
      ]
     },
     "execution_count": 25,
     "metadata": {},
     "output_type": "execute_result"
    }
   ],
   "source": [
    "cities"
   ]
  },
  {
   "cell_type": "code",
   "execution_count": 2,
   "id": "7febf9a5",
   "metadata": {},
   "outputs": [],
   "source": [
    "bio_data = ['Huzaifa', 'Mehmood', 65, 21, False]"
   ]
  },
  {
   "cell_type": "code",
   "execution_count": 3,
   "id": "33680887",
   "metadata": {},
   "outputs": [
    {
     "data": {
      "text/plain": [
       "['Huzaifa', 'Mehmood', 65, 21, False]"
      ]
     },
     "execution_count": 3,
     "metadata": {},
     "output_type": "execute_result"
    }
   ],
   "source": [
    "bio_data"
   ]
  },
  {
   "cell_type": "code",
   "execution_count": 4,
   "id": "d6995f59",
   "metadata": {},
   "outputs": [],
   "source": [
    "bio_data.append(31011299339)"
   ]
  },
  {
   "cell_type": "code",
   "execution_count": 5,
   "id": "8955fd09",
   "metadata": {},
   "outputs": [
    {
     "data": {
      "text/plain": [
       "['Huzaifa', 'Mehmood', 65, 21, False, 31011299339]"
      ]
     },
     "execution_count": 5,
     "metadata": {},
     "output_type": "execute_result"
    }
   ],
   "source": [
    "bio_data"
   ]
  },
  {
   "cell_type": "code",
   "execution_count": 6,
   "id": "32c09831",
   "metadata": {},
   "outputs": [],
   "source": [
    "del bio_data[5]"
   ]
  },
  {
   "cell_type": "code",
   "execution_count": 7,
   "id": "50a3ccf2",
   "metadata": {},
   "outputs": [
    {
     "data": {
      "text/plain": [
       "['Huzaifa', 'Mehmood', 65, 21, False]"
      ]
     },
     "execution_count": 7,
     "metadata": {},
     "output_type": "execute_result"
    }
   ],
   "source": [
    "bio_data"
   ]
  },
  {
   "cell_type": "code",
   "execution_count": 11,
   "id": "3d48faff",
   "metadata": {},
   "outputs": [],
   "source": [
    "bio_data.remove(21)"
   ]
  },
  {
   "cell_type": "code",
   "execution_count": 12,
   "id": "90cc02df",
   "metadata": {},
   "outputs": [
    {
     "data": {
      "text/plain": [
       "['Huzaifa', 'Mehmood', 65, False]"
      ]
     },
     "execution_count": 12,
     "metadata": {},
     "output_type": "execute_result"
    }
   ],
   "source": [
    "bio_data"
   ]
  },
  {
   "cell_type": "markdown",
   "id": "8a36fb1f",
   "metadata": {},
   "source": [
    "## Slicing"
   ]
  },
  {
   "cell_type": "code",
   "execution_count": 26,
   "id": "59207b38",
   "metadata": {},
   "outputs": [
    {
     "data": {
      "text/plain": [
       "['karachi', 'punjab', 'swat', 'balochistan', 'sukkur', 'kpk', 'mir pur']"
      ]
     },
     "execution_count": 26,
     "metadata": {},
     "output_type": "execute_result"
    }
   ],
   "source": [
    "cities"
   ]
  },
  {
   "cell_type": "code",
   "execution_count": 27,
   "id": "5b21c179",
   "metadata": {},
   "outputs": [],
   "source": [
    "slicedlist = cities[:]"
   ]
  },
  {
   "cell_type": "code",
   "execution_count": 28,
   "id": "b3dce5ae",
   "metadata": {},
   "outputs": [
    {
     "data": {
      "text/plain": [
       "['karachi', 'punjab', 'swat', 'balochistan', 'sukkur', 'kpk', 'mir pur']"
      ]
     },
     "execution_count": 28,
     "metadata": {},
     "output_type": "execute_result"
    }
   ],
   "source": [
    "slicedlist"
   ]
  },
  {
   "cell_type": "code",
   "execution_count": 29,
   "id": "89e04823",
   "metadata": {},
   "outputs": [],
   "source": [
    "slicedlist = cities[2:]"
   ]
  },
  {
   "cell_type": "code",
   "execution_count": 30,
   "id": "82e504f0",
   "metadata": {},
   "outputs": [
    {
     "data": {
      "text/plain": [
       "['swat', 'balochistan', 'sukkur', 'kpk', 'mir pur']"
      ]
     },
     "execution_count": 30,
     "metadata": {},
     "output_type": "execute_result"
    }
   ],
   "source": [
    "slicedlist"
   ]
  },
  {
   "cell_type": "code",
   "execution_count": 31,
   "id": "35cc7e29",
   "metadata": {},
   "outputs": [],
   "source": [
    "slicedlist = cities[:5]"
   ]
  },
  {
   "cell_type": "code",
   "execution_count": 32,
   "id": "4d576a2e",
   "metadata": {},
   "outputs": [
    {
     "data": {
      "text/plain": [
       "['karachi', 'punjab', 'swat', 'balochistan', 'sukkur']"
      ]
     },
     "execution_count": 32,
     "metadata": {},
     "output_type": "execute_result"
    }
   ],
   "source": [
    "slicedlist"
   ]
  },
  {
   "cell_type": "markdown",
   "id": "f2aadcd2",
   "metadata": {},
   "source": [
    "##  Popping list"
   ]
  },
  {
   "cell_type": "code",
   "execution_count": 33,
   "id": "72ad76c8",
   "metadata": {},
   "outputs": [],
   "source": [
    "Daily_task = ['Breakfast', 'Office', 'Lunch', 'Evening class', 'gym']"
   ]
  },
  {
   "cell_type": "code",
   "execution_count": 35,
   "id": "83093971",
   "metadata": {},
   "outputs": [
    {
     "data": {
      "text/plain": [
       "'Lunch'"
      ]
     },
     "execution_count": 35,
     "metadata": {},
     "output_type": "execute_result"
    }
   ],
   "source": [
    "Daily_task.pop(2)"
   ]
  },
  {
   "cell_type": "code",
   "execution_count": 37,
   "id": "243fd267",
   "metadata": {},
   "outputs": [
    {
     "data": {
      "text/plain": [
       "['Breakfast', 'Office', 'Evening class', 'gym']"
      ]
     },
     "execution_count": 37,
     "metadata": {},
     "output_type": "execute_result"
    }
   ],
   "source": [
    "Daily_task"
   ]
  },
  {
   "cell_type": "code",
   "execution_count": 38,
   "id": "8047ae0f",
   "metadata": {},
   "outputs": [],
   "source": [
    "daily_task = ['email huzaifa', 'call boss', 'with with customer' ]"
   ]
  },
  {
   "cell_type": "code",
   "execution_count": 44,
   "id": "baa9cedb",
   "metadata": {},
   "outputs": [],
   "source": [
    "task_completed = []"
   ]
  },
  {
   "cell_type": "code",
   "execution_count": 45,
   "id": "971c2aca",
   "metadata": {},
   "outputs": [],
   "source": [
    "task_completed.insert(0,daily_task.pop())"
   ]
  },
  {
   "cell_type": "code",
   "execution_count": 46,
   "id": "e1e1f0a2",
   "metadata": {},
   "outputs": [
    {
     "data": {
      "text/plain": [
       "['with with customer']"
      ]
     },
     "execution_count": 46,
     "metadata": {},
     "output_type": "execute_result"
    }
   ],
   "source": [
    "task_completed"
   ]
  },
  {
   "cell_type": "code",
   "execution_count": 47,
   "id": "05150156",
   "metadata": {},
   "outputs": [
    {
     "data": {
      "text/plain": [
       "['email huzaifa', 'call boss']"
      ]
     },
     "execution_count": 47,
     "metadata": {},
     "output_type": "execute_result"
    }
   ],
   "source": [
    "daily_task"
   ]
  },
  {
   "cell_type": "markdown",
   "id": "ca60aa35",
   "metadata": {},
   "source": [
    "## For Loops"
   ]
  },
  {
   "cell_type": "code",
   "execution_count": 48,
   "id": "f1c16ae5",
   "metadata": {},
   "outputs": [
    {
     "data": {
      "text/plain": [
       "['karachi', 'punjab', 'swat', 'balochistan', 'sukkur', 'kpk', 'mir pur']"
      ]
     },
     "execution_count": 48,
     "metadata": {},
     "output_type": "execute_result"
    }
   ],
   "source": [
    "cities"
   ]
  },
  {
   "cell_type": "code",
   "execution_count": 50,
   "id": "7b733a42",
   "metadata": {},
   "outputs": [
    {
     "name": "stdout",
     "output_type": "stream",
     "text": [
      "karachi\n",
      "pakistan zindabad\n",
      "punjab\n",
      "pakistan zindabad\n",
      "swat\n",
      "pakistan zindabad\n",
      "balochistan\n",
      "pakistan zindabad\n",
      "sukkur\n",
      "pakistan zindabad\n",
      "kpk\n",
      "pakistan zindabad\n",
      "mir pur\n",
      "pakistan zindabad\n"
     ]
    }
   ],
   "source": [
    "for temp in cities:\n",
    "    print(temp)\n",
    "    print('pakistan zindabad')"
   ]
  },
  {
   "cell_type": "code",
   "execution_count": null,
   "id": "d1bdd738",
   "metadata": {},
   "outputs": [],
   "source": []
  }
 ],
 "metadata": {
  "kernelspec": {
   "display_name": "Python 3 (ipykernel)",
   "language": "python",
   "name": "python3"
  },
  "language_info": {
   "codemirror_mode": {
    "name": "ipython",
    "version": 3
   },
   "file_extension": ".py",
   "mimetype": "text/x-python",
   "name": "python",
   "nbconvert_exporter": "python",
   "pygments_lexer": "ipython3",
   "version": "3.11.5"
  }
 },
 "nbformat": 4,
 "nbformat_minor": 5
}
